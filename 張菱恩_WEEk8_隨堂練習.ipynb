{
  "nbformat": 4,
  "nbformat_minor": 0,
  "metadata": {
    "colab": {
      "name": "張菱恩 - WEEk8 - 隨堂練習.ipynb",
      "provenance": [],
      "authorship_tag": "ABX9TyP2IXU+hHz5Fi42OaV16Mc8",
      "include_colab_link": true
    },
    "kernelspec": {
      "name": "python3",
      "display_name": "Python 3"
    },
    "language_info": {
      "name": "python"
    }
  },
  "cells": [
    {
      "cell_type": "markdown",
      "metadata": {
        "id": "view-in-github",
        "colab_type": "text"
      },
      "source": [
        "<a href=\"https://colab.research.google.com/github/A107310033/Computational-Thinking-and-Prog/blob/main/%E5%BC%B5%E8%8F%B1%E6%81%A9_WEEk8_%E9%9A%A8%E5%A0%82%E7%B7%B4%E7%BF%92.ipynb\" target=\"_parent\"><img src=\"https://colab.research.google.com/assets/colab-badge.svg\" alt=\"Open In Colab\"/></a>"
      ]
    },
    {
      "cell_type": "code",
      "metadata": {
        "colab": {
          "base_uri": "https://localhost:8080/"
        },
        "id": "QYWrZuSNZ4dR",
        "outputId": "aabce687-94f2-4c36-ec2b-415f69947eba"
      },
      "source": [
        "## Input\n",
        "a = 13\n",
        "b = 11\n",
        "## Process\n",
        "t = a\n",
        "a = b\n",
        "b = t\n",
        "## Output\n",
        "print(\"a = \", a, \"b =\", b)\n",
        "\n",
        "\n"
      ],
      "execution_count": 1,
      "outputs": [
        {
          "output_type": "stream",
          "text": [
            "a =  11 b = 13\n"
          ],
          "name": "stdout"
        }
      ]
    },
    {
      "cell_type": "code",
      "metadata": {
        "colab": {
          "base_uri": "https://localhost:8080/"
        },
        "id": "rGUrwo-We30X",
        "outputId": "1496005b-c603-479d-b48b-b9ee082170a0"
      },
      "source": [
        "## Input\n",
        "a, b, c, d, e, f = eval(input(\"Enter a number\"))\n",
        "\n",
        "## Process + Output\n",
        "a = a//3 ; b = b + a ; f = f + a\n",
        "print(f\"a = {a}, b = {b}, c = {c}, d = {d}, e = {e}, f = {f}\")\n",
        "b = b//3 ; a = a + b ; c = c + b\n",
        "print(f\"a = {a}, b = {b}, c = {c}, d = {d}, e = {e}, f = {f}\")\n",
        "c = c//3 ; b = b + c ; f = f + a\n",
        "print(f\"a = {a}, b = {b}, c = {c}, d = {d}, e = {e}, f = {f}\")\n",
        "d = d//3 ; c = c + d ; f = f + a\n",
        "print(f\"a = {a}, b = {b}, c = {c}, d = {d}, e = {e}, f = {f}\")\n",
        "e = e//3 ; b = b + a ; f = f + a\n",
        "print(f\"a = {a}, b = {b}, c = {c}, d = {d}, e = {e}, f = {f}\")\n",
        "f = f//3 ; b = b + a ; f = f + a\n",
        "print(f\"a = {a}, b = {b}, c = {c}, d = {d}, e = {e}, f = {f}\")"
      ],
      "execution_count": 7,
      "outputs": [
        {
          "output_type": "stream",
          "text": [
            "Enter a number1,2,3,4,5,6\n",
            "a = 0, b = 2, c = 3, d = 4, e = 5, f = 6\n",
            "a = 0, b = 0, c = 3, d = 4, e = 5, f = 6\n",
            "a = 0, b = 1, c = 1, d = 4, e = 5, f = 6\n",
            "a = 0, b = 1, c = 2, d = 1, e = 5, f = 6\n",
            "a = 0, b = 1, c = 2, d = 1, e = 1, f = 6\n",
            "a = 0, b = 1, c = 2, d = 1, e = 1, f = 2\n"
          ],
          "name": "stdout"
        }
      ]
    },
    {
      "cell_type": "code",
      "metadata": {
        "colab": {
          "base_uri": "https://localhost:8080/"
        },
        "id": "FA-6OsMokUWY",
        "outputId": "310d3635-d620-449e-a647-6f58de4831f0"
      },
      "source": [
        "In [1]: ## Total = 200 * 幾打 ＋ 20 ＊ 罐\n",
        "   ...: ## Input Data\n",
        "   ...: cans = int(input('請輸入購買飲料的罐數？')) #數字轉文字\n",
        "   ...: ## Process\n",
        "   ...: total = (cans//12)*200 + (cans%12)*20\n",
        "   ...: ## Output\n",
        "   ...: print('需花費', total)\n"
      ],
      "execution_count": 9,
      "outputs": [
        {
          "output_type": "stream",
          "text": [
            "請輸入購買飲料的罐數？2\n",
            "需花費 40\n"
          ],
          "name": "stdout"
        }
      ]
    },
    {
      "cell_type": "code",
      "metadata": {
        "colab": {
          "base_uri": "https://localhost:8080/"
        },
        "id": "Ou9pr-0wmgf2",
        "outputId": "902b7a09-1939-4813-beb6-9190269b987e"
      },
      "source": [
        "In [1]: ## 計算三次成績的總和與平均\n",
        "   ...: ## Input Data\n",
        "   ...: first = int(input('請輸入第一次期中考成績？'))\n",
        "   ...: second = int(input('請輸入第二次期中考成績？'))\n",
        "   ...: final = int(input('請輸入期末考成績？'))\n",
        "   ...: ## Process\n",
        "   ...: sum = first + second + final\n",
        "   ...: average = sum/3\n",
        "   ...: ## Output\n",
        "   ...: print('總分為', sum, '平均為', average)"
      ],
      "execution_count": 10,
      "outputs": [
        {
          "output_type": "stream",
          "text": [
            "請輸入第一次期中考成績？50\n",
            "請輸入第二次期中考成績？60\n",
            "請輸入期末考成績？70\n",
            "總分為 180 平均為 60.0\n"
          ],
          "name": "stdout"
        }
      ]
    }
  ]
}