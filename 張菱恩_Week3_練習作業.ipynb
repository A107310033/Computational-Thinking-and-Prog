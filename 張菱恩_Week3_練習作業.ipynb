{
  "nbformat": 4,
  "nbformat_minor": 0,
  "metadata": {
    "colab": {
      "name": "張菱恩-Week3-練習作業.ipynb",
      "provenance": [],
      "authorship_tag": "ABX9TyO+TBeXC5YunfllaSZtUolN",
      "include_colab_link": true
    },
    "kernelspec": {
      "name": "python3",
      "display_name": "Python 3"
    }
  },
  "cells": [
    {
      "cell_type": "markdown",
      "metadata": {
        "id": "view-in-github",
        "colab_type": "text"
      },
      "source": [
        "<a href=\"https://colab.research.google.com/github/A107310033/Computational-Thinking-and-Prog/blob/main/%E5%BC%B5%E8%8F%B1%E6%81%A9_Week3_%E7%B7%B4%E7%BF%92%E4%BD%9C%E6%A5%AD.ipynb\" target=\"_parent\"><img src=\"https://colab.research.google.com/assets/colab-badge.svg\" alt=\"Open In Colab\"/></a>"
      ]
    },
    {
      "cell_type": "markdown",
      "metadata": {
        "id": "oEWwoSoNNDiz"
      },
      "source": [
        "# 隨堂練習"
      ]
    },
    {
      "cell_type": "markdown",
      "metadata": {
        "id": "AqVlHETiODn6"
      },
      "source": [
        "**隨堂練習為各單元重點摘要**\r\n",
        "\r\n",
        "1.認識電腦:\r\n",
        "\r\n",
        "*電腦改變生活和工作的方式。舉例:導航、即時通、網路訂票。\r\n",
        "\r\n",
        "*用電腦解決問題。\r\n",
        "\r\n",
        "*電腦主要是由硬體與軟體兩部分。\r\n",
        "\r\n",
        "*輸入-處理-輸出。\r\n",
        "\r\n",
        "*計算用硬體:CPU、FPU、GPU。\r\n",
        "\r\n",
        "*電腦軟硬體都是以「輸入-處理-輸出」為架構。\r\n",
        "\r\n",
        "2.程式語言\r\n",
        "\r\n",
        "*電腦與人溝通的橋樑。\r\n",
        "\r\n",
        "*0與1就是電腦唯一會說的話。電腦只需要利用零和一這兩種數字,就可以處理很多的問題。\r\n",
        "\r\n",
        "*程式語言(program language)是人和電腦溝通的媒介,透過它命令電腦工作,達成我們想要完成的任務,這些指令的集合就是程式。\r\n",
        "\r\n",
        "*運算思維是一種解決問題的方法\r\n",
        "\r\n",
        "*問題拆解 => 模式辨識 => 抽象化 => 演算法\r\n",
        "\r\n",
        "*階段一:Analysis - 運算思維。\r\n",
        "階段二 : Design - 程式設計。\r\n",
        "階段三:Coding - 撰寫程式。\r\n",
        "階段四:Testing - 測試與除錯。\r\n",
        "\r\n"
      ]
    },
    {
      "cell_type": "markdown",
      "metadata": {
        "id": "3iagQDLkNTbD"
      },
      "source": [
        "# 課後作業"
      ]
    },
    {
      "cell_type": "markdown",
      "metadata": {
        "id": "uhFBU_fbNVjC"
      },
      "source": [
        "**課後練習則為從一則新聞報導，提出你對新聞系（OO系）學生為什麼要學「運算思維與程式設計」的見解。（告訴我新聞連結，以及你的觀點即可。）**\r\n",
        "\r\n",
        "https://reurl.cc/E2Vodm\r\n",
        "\r\n",
        "進入一個人人喊著斜槓青年的世代，我們不只要培養「專才」，更要有跨領域的能力，且現今越來越多企業需要運用到程式設計，在大學階段培養這方面的技巧對於未來學習是有所幫助的，另一方面，其實具備操作電腦的能力對於現在工作來說是非常基本的，所以無論我們是讀什麼科系，其實程式設計與運算思維這堂課都是必修的，且 非常有幫助的。"
      ]
    }
  ]
}