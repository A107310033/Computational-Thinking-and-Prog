{
  "nbformat": 4,
  "nbformat_minor": 0,
  "metadata": {
    "colab": {
      "name": "張菱恩-Week14-作業習題pynb",
      "provenance": [],
      "authorship_tag": "ABX9TyNAngWGluvqJ9yRjm9uN7t1",
      "include_colab_link": true
    },
    "kernelspec": {
      "name": "python3",
      "display_name": "Python 3"
    },
    "language_info": {
      "name": "python"
    }
  },
  "cells": [
    {
      "cell_type": "markdown",
      "metadata": {
        "id": "view-in-github",
        "colab_type": "text"
      },
      "source": [
        "<a href=\"https://colab.research.google.com/github/A107310033/Computational-Thinking-and-Prog/blob/main/%E5%BC%B5%E8%8F%B1%E6%81%A9_Week14_%E4%BD%9C%E6%A5%AD%E7%BF%92%E9%A1%8Cpynb.ipynb\" target=\"_parent\"><img src=\"https://colab.research.google.com/assets/colab-badge.svg\" alt=\"Open In Colab\"/></a>"
      ]
    },
    {
      "cell_type": "markdown",
      "metadata": {
        "id": "Hogr2YeY7bzr"
      },
      "source": [
        "**`應用練習 2:依照身份證字號，排隊領口罩`**\n",
        "\n",
        "請輸入身份證字號的最號一碼，若奇數則星期一三五領口罩，若偶數則星期二四六領口罩。\n",
        "請用單向、雙向選擇撰寫程式。"
      ]
    },
    {
      "cell_type": "code",
      "metadata": {
        "colab": {
          "base_uri": "https://localhost:8080/"
        },
        "id": "WlQlu98P6LZD",
        "outputId": "4bd328bd-8407-4ef1-fe80-fe8fa846cf28"
      },
      "source": [
        "user_int = int(input(\"請輸入身份證的最後一個正整數:\"))\n",
        "## 單向選擇\n",
        "if user_int % 2 == 0:\n",
        "   ans = \"偶數，請星期二四六日領口罩\" \n",
        "if user_int % 2 == 1:\n",
        "   ans = \"奇數，請星期一三五日領口罩\" \n",
        "print( ans ) \n"
      ],
      "execution_count": 11,
      "outputs": [
        {
          "output_type": "stream",
          "text": [
            "請輸入身份證的最後一個正整數:0\n",
            "偶數，請星期二四六日領口罩\n"
          ],
          "name": "stdout"
        }
      ]
    },
    {
      "cell_type": "markdown",
      "metadata": {
        "id": "2BTmpHHh-XcH"
      },
      "source": [
        "棒打老虎雞吃蟲"
      ]
    },
    {
      "cell_type": "code",
      "metadata": {
        "colab": {
          "base_uri": "https://localhost:8080/"
        },
        "id": "jA_gRFNg-XK5",
        "outputId": "f723c980-7fd8-40f9-bee2-da03d5521c8e"
      },
      "source": [
        "my_choice = int(input(\"請出拳 [0] 蟲 [1] 雞 [2] 老虎 [3] 棒子\")) \n",
        "print(\"你出的拳:\", my_choice)\n",
        "import random\n",
        "com_choice = random.randint(0, 3)\n",
        "print(\"電腦出拳為\", com_choice)\n",
        "\n",
        "if my_choice == (com_choice + 1) % 4:\n",
        "   print(\"我贏了\")\n",
        "elif com_choice == (my_choice + 1) % 4:\n",
        "   print(\"電腦贏了\") \n",
        "else:\n",
        "   print(\"平手\")"
      ],
      "execution_count": 17,
      "outputs": [
        {
          "output_type": "stream",
          "text": [
            "請出拳 [0] 蟲 [1] 雞 [2] 老虎 [3] 棒子3\n",
            "你出的拳: 3\n",
            "電腦出拳為 1\n",
            "平手\n"
          ],
          "name": "stdout"
        }
      ]
    }
  ]
}