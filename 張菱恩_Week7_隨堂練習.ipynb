{
  "nbformat": 4,
  "nbformat_minor": 0,
  "metadata": {
    "colab": {
      "name": "張菱恩-Week7-隨堂練習",
      "provenance": [],
      "authorship_tag": "ABX9TyM5yiQ2gNPTO0sURweJFs5G",
      "include_colab_link": true
    },
    "kernelspec": {
      "name": "python3",
      "display_name": "Python 3"
    },
    "language_info": {
      "name": "python"
    }
  },
  "cells": [
    {
      "cell_type": "markdown",
      "metadata": {
        "id": "view-in-github",
        "colab_type": "text"
      },
      "source": [
        "<a href=\"https://colab.research.google.com/github/A107310033/Computational-Thinking-and-Prog/blob/main/%E5%BC%B5%E8%8F%B1%E6%81%A9_Week7_%E9%9A%A8%E5%A0%82%E7%B7%B4%E7%BF%92.ipynb\" target=\"_parent\"><img src=\"https://colab.research.google.com/assets/colab-badge.svg\" alt=\"Open In Colab\"/></a>"
      ]
    },
    {
      "cell_type": "markdown",
      "metadata": {
        "id": "kQ9XC0xhgBq-"
      },
      "source": [
        "練習3: 變數賦值,小猴子摘水果\n",
        "有一天,一隻小猴子來到果園裡,牠走道蘋果樹下,看到滿樹的蘋果,就爬上去摘了\n",
        "2個。又看到不滿的地方有一個梨子樹,又大又黃,就丟掉蘋果,爬到梨子樹摘了1\n",
        "個梨子。正準備吃的時候,看到前方又紅又大的桃子樹,就又高高興興地跑到桃樹\n",
        "上,摘了3個桃子。這時傳來小鳥的叫聲,鳥在香蕉樹上,當然就立馬飛奔去摘香\n",
        "蕉,最後吃了6根香蕉。請問這隻猴子摘了多少個水果,手中最後的水果是什麼?請\n",
        "你用Python記錄一下!\n",
        "\n"
      ]
    },
    {
      "cell_type": "code",
      "metadata": {
        "colab": {
          "base_uri": "https://localhost:8080/"
        },
        "id": "gxVgDvdIf-Su",
        "outputId": "157be6d6-252f-4fe9-9bea-25fdcafd14ad"
      },
      "source": [
        "total = 0\n",
        "\n",
        "fruit = \"apple\"\n",
        "number = 2\n",
        "total = total + number\n",
        "#print(\"摘了\"，fruit，\"摘了\"，number，\"個，總共摘了\"，total，\"個水果\")\n",
        "print(f\"摘了{fruit}、摘了{number}個，總共摘了{total}個水果\")\n",
        "\n",
        "fruit = \"pear\"\n",
        "number = 1\n",
        "total = total + number\n",
        "#print(\"摘了\"，fruit，\"摘了\"，number，\"個，總共摘了\"，total，\"個水果\")\n",
        "print(f\"摘了{fruit}、摘了{number}個，總共摘了{total}個水果\")\n",
        "\n",
        "fruit = \"peach\"\n",
        "number = 3\n",
        "total = total + number\n",
        "#print(\"摘了\"，fruit，\"摘了\"，number，\"個，總共摘了\"，total，\"個水果\")\n",
        "print(f\"摘了{fruit}、摘了{number}個，總共摘了{total}個水果\")\n",
        "\n",
        "fruit = \"banana\"\n",
        "number = 6\n",
        "total = total + number\n",
        "#print(\"摘了\"，fruit，\"摘了\"，number，\"個，總共摘了\"，total，\"個水果\")\n",
        "print(f\"摘了{fruit}、摘了{number}個，總共摘了{total}個水果\")"
      ],
      "execution_count": 1,
      "outputs": [
        {
          "output_type": "stream",
          "text": [
            "摘了apple、摘了2個，總共摘了2個水果\n",
            "摘了pear、摘了1個，總共摘了3個水果\n",
            "摘了peach、摘了3個，總共摘了6個水果\n",
            "摘了banana、摘了6個，總共摘了12個水果\n"
          ],
          "name": "stdout"
        }
      ]
    },
    {
      "cell_type": "markdown",
      "metadata": {
        "id": "iUzVx5-OoyDe"
      },
      "source": [
        "計算圓面積與圓周長"
      ]
    },
    {
      "cell_type": "code",
      "metadata": {
        "colab": {
          "base_uri": "https://localhost:8080/"
        },
        "id": "5syRWtYHmHzB",
        "outputId": "4235c022-0a07-4491-9ea5-f1fb70cbe87b"
      },
      "source": [
        "## Input\n",
        "PI = 3.14\n",
        "r1 = input(\"Enter radius 1: \")\n",
        "r2 = input(\"Enter radius 2: \")\n",
        "r1 = float(r1)\n",
        "r2 = float(r2)\n",
        "\n",
        "## Process\n",
        "area1 = PI * r1 * r1\n",
        "area2 = PI * r2 * r2\n",
        "area = area1 - area2\n",
        "\n",
        "## Output\n",
        "print(f\"........{area}\")"
      ],
      "execution_count": 3,
      "outputs": [
        {
          "output_type": "stream",
          "text": [
            "Enter radius 1: 20\n",
            "Enter radius 2: 10\n",
            "........942.0\n"
          ],
          "name": "stdout"
        }
      ]
    },
    {
      "cell_type": "markdown",
      "metadata": {
        "id": "xqx1q6qeqUym"
      },
      "source": [
        "# **英制轉公制**\n",
        "\n",
        "將⾝⾼由英制改成公制，例如5尺8吋換算成公制，1尺等於12吋，1吋等於2.54公\n",
        "分，轉換公式為(512+8)2.54等於172.72公分。\n",
        "～預覽結果\n",
        "輸入「5」尺，輸入「8」吋，計算結果顯⽰在螢幕如下。\n",
        "請輸入幾尺？5\n",
        "請輸入幾吋？8\n",
        "轉換成 172.72 公分\n"
      ]
    },
    {
      "cell_type": "code",
      "metadata": {
        "colab": {
          "base_uri": "https://localhost:8080/"
        },
        "id": "Nj1piRqcqY_C",
        "outputId": "73f8c398-da9d-4285-fa07-067355129092"
      },
      "source": [
        "f = int(input('請輸入幾尺?'))\n",
        "i = int(input('請輸入幾吋?'))\n",
        "ans = (f*12+i)*2.54\n",
        "print('轉換成' , ans, '公分')"
      ],
      "execution_count": 13,
      "outputs": [
        {
          "output_type": "stream",
          "text": [
            "請輸入幾尺?5\n",
            "請輸入幾吋?8\n",
            "轉換成 172.72 公分\n"
          ],
          "name": "stdout"
        }
      ]
    }
  ]
}